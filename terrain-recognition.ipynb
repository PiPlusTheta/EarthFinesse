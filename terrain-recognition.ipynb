{
 "cells": [
  {
   "cell_type": "markdown",
   "id": "c8d019d5",
   "metadata": {},
   "source": [
    "# Initializing \n",
    "\n",
    "Setting Directory Paths for Training, Validation and Testing Data and Defining the Number of Classes as 4 - Grassy, marshy, Rocky, Sandy"
   ]
  },
  {
   "cell_type": "code",
   "execution_count": null,
   "id": "3e62b1ca",
   "metadata": {},
   "outputs": [],
   "source": [
    "train_dir = r\"D:\\Terrain\\Split\\train\"\n",
    "valid_dir = r\"D:\\Terrain\\Split\\val\"\n",
    "test_dir = r\"D:\\Terrain\\Split\\test\"\n",
    "num_classes = 4"
   ]
  },
  {
   "cell_type": "markdown",
   "id": "74ebe76b",
   "metadata": {},
   "source": [
    "# Data Augmentation\n",
    "\n",
    "Data Augmentation using the ImageDataGenerator module from TensorFlow's Keras API. Data augmentation is a common practice in deep learning, especially for image classification tasks, as it helps improve model generalization by artificially increasing the diversity of the training dataset."
   ]
  },
  {
   "cell_type": "code",
   "execution_count": null,
   "id": "42441d0e",
   "metadata": {},
   "outputs": [],
   "source": [
    "from tensorflow.keras.preprocessing.image import ImageDataGenerator\n",
    "\n",
    "train_datagen = ImageDataGenerator(\n",
    "    rescale=1./255,\n",
    "    shear_range=0.2,\n",
    "    zoom_range=0.2,\n",
    "    horizontal_flip=True\n",
    ")\n",
    "\n",
    "test_datagen = ImageDataGenerator(\n",
    "    rescale=1./255\n",
    ")\n",
    "\n",
    "validation_datagen = ImageDataGenerator(\n",
    "    rescale=1./255\n",
    ")"
   ]
  },
  {
   "cell_type": "markdown",
   "id": "c7d5d42e",
   "metadata": {},
   "source": [
    "# Data Generation\n",
    "\n",
    "Creation of data generators to load and preprocess image data from the specified directories for training, testing, and validation.  The generators apply appropriate data augmentation or preprocessing techniques as needed, depending on the purpose of each dataset."
   ]
  },
  {
   "cell_type": "code",
   "execution_count": null,
   "id": "60fcfe08",
   "metadata": {},
   "outputs": [],
   "source": [
    "train_generator = train_datagen.flow_from_directory(\n",
    "    train_dir,\n",
    "    target_size=(224, 224),\n",
    "    batch_size=32,\n",
    "    class_mode=\"categorical\"\n",
    ")\n",
    "\n",
    "test_generator = test_datagen.flow_from_directory(\n",
    "    test_dir,\n",
    "    target_size=(224, 224),\n",
    "    batch_size=32,\n",
    "    class_mode=\"categorical\",\n",
    "    shuffle=False\n",
    ")\n",
    "\n",
    "validation_generator = validation_datagen.flow_from_directory(\n",
    "    valid_dir,\n",
    "    target_size=(224, 224),\n",
    "    batch_size=32,\n",
    "    class_mode=\"categorical\"\n",
    ")"
   ]
  },
  {
   "cell_type": "markdown",
   "id": "c14cde62",
   "metadata": {},
   "source": [
    "# Loading MobileNetV2\n",
    "\n",
    "Load the MobileNetV2 pre-trained model with Weights trained on ImageNet Dataset. We specify that we want to exclude the top (classification) layer and set the input shape to (224, 224, 3) to match the expected input size."
   ]
  },
  {
   "cell_type": "code",
   "execution_count": null,
   "id": "afb521ce",
   "metadata": {},
   "outputs": [],
   "source": [
    "from tensorflow.keras.applications import MobileNetV2\n",
    "\n",
    "base_model = MobileNetV2(weights=\"imagenet\", include_top=False, input_shape=(224, 224, 3))\n",
    "\n",
    "for layer in base_model.layers:\n",
    "    layer.trainable = False"
   ]
  },
  {
   "cell_type": "markdown",
   "id": "bded80f8",
   "metadata": {},
   "source": [
    "# Building the Custom Classification Model\n",
    "\n",
    "Adding Layers on Top of MobileNetV2 Base Model to Build a Custom Classification Model on top of the MobileNetV2 Model."
   ]
  },
  {
   "cell_type": "code",
   "execution_count": null,
   "id": "63f26e78",
   "metadata": {},
   "outputs": [],
   "source": [
    "from tensorflow.keras.layers import GlobalAveragePooling2D, Dense\n",
    "from tensorflow.keras.models import Model\n",
    "\n",
    "x = base_model.output\n",
    "x = GlobalAveragePooling2D()(x)\n",
    "x = Dense(1024, activation=\"relu\")(x)\n",
    "predictions = Dense(num_classes, activation=\"softmax\")(x)\n",
    "\n",
    "model = Model(inputs=base_model.input, outputs=predictions)"
   ]
  },
  {
   "cell_type": "markdown",
   "id": "73e83e8f",
   "metadata": {},
   "source": [
    "# Compiling\n",
    "\n",
    "Compiling the Custom Classification Model Using Adam Optimizer"
   ]
  },
  {
   "cell_type": "code",
   "execution_count": null,
   "id": "3ab9d8d1",
   "metadata": {},
   "outputs": [],
   "source": [
    "model.compile(optimizer=\"adam\", loss=\"categorical_crossentropy\", metrics=[\"accuracy\"])"
   ]
  },
  {
   "cell_type": "markdown",
   "id": "2b7608ec",
   "metadata": {},
   "source": [
    "# Training\n",
    "\n",
    "Training the Custom Classification Model "
   ]
  },
  {
   "cell_type": "code",
   "execution_count": null,
   "id": "05a280d3",
   "metadata": {
    "scrolled": true
   },
   "outputs": [],
   "source": [
    "history = model.fit(\n",
    "    train_generator,\n",
    "    steps_per_epoch=train_generator.samples // train_generator.batch_size,\n",
    "    validation_data=validation_generator,\n",
    "    validation_steps=validation_generator.samples // validation_generator.batch_size,\n",
    "    epochs=10\n",
    ")"
   ]
  },
  {
   "cell_type": "markdown",
   "id": "4bc5b55c",
   "metadata": {},
   "source": [
    "# Creating a Pandas Dataframe\n",
    "\n",
    "Creating a Pandas Dataframe from Training History and Printing it."
   ]
  },
  {
   "cell_type": "code",
   "execution_count": null,
   "id": "58350e99",
   "metadata": {},
   "outputs": [],
   "source": [
    "import pandas as pd\n",
    "history_df = pd.DataFrame(history.history)\n",
    "print(history_df)"
   ]
  },
  {
   "cell_type": "markdown",
   "id": "44dfb697",
   "metadata": {},
   "source": [
    "# Testing the Model\n",
    "\n",
    "Making Predictions Using the Trained Model on the Test Date  and Mapping the Predicted and True Class Indices to their Corresponding Class Names."
   ]
  },
  {
   "cell_type": "code",
   "execution_count": null,
   "id": "35141dc4",
   "metadata": {},
   "outputs": [],
   "source": [
    "preds = model.predict(test_generator)\n",
    "y_pred = np.argmax(preds, axis=1)\n",
    "for k, v in test_generator.class_indices.items():\n",
    "    print(v, \":\", k)\n",
    "pred_classes = {\n",
    "    0 : \"Grassy\",\n",
    "    1 : \"Marshy\",\n",
    "    2 : \"Rocky\",\n",
    "    3 : \"Sandy\",\n",
    "}\n",
    "y_pred = list(map(lambda x: pred_classes[x], y_pred))\n",
    "y_test = list(map(lambda x: pred_classes[x], test_generator.classes))"
   ]
  },
  {
   "cell_type": "markdown",
   "id": "5add35c5",
   "metadata": {},
   "source": [
    "# Visualizing and Displaying Model Architecture\n",
    "\n",
    "Creating a visual representation of the architecture of a deep learning model and displaying it within a Jupyter Notebook. The visual representation helps in comprehending the model's structure and can be essential for model development, understanding, and communication."
   ]
  },
  {
   "cell_type": "code",
   "execution_count": null,
   "id": "9a3d7741",
   "metadata": {},
   "outputs": [],
   "source": [
    "from tensorflow.keras.utils import plot_model\n",
    "import matplotlib.pyplot as plt\n",
    "\n",
    "plot_model(model, to_file='model_plot.png', show_shapes=True, show_layer_names=True)\n",
    "\n",
    "img = plt.imread('model_plot.png')\n",
    "plt.figure(figsize=(10, 10))\n",
    "plt.imshow(img)\n",
    "plt.axis('off')\n",
    "plt.show()"
   ]
  },
  {
   "cell_type": "markdown",
   "id": "046789c2",
   "metadata": {},
   "source": [
    "# Overview of the Model\n",
    "\n",
    "Provide a training summary for the Model"
   ]
  },
  {
   "cell_type": "code",
   "execution_count": null,
   "id": "9799f9ac",
   "metadata": {},
   "outputs": [],
   "source": [
    "model.summary()"
   ]
  },
  {
   "cell_type": "markdown",
   "id": "b88eb923",
   "metadata": {},
   "source": [
    "# Evaluating Model Performance and Generating Classification Report\n",
    "\n",
    "Evaluating the performance of a deep learning model and generating a classification report for the model's predictions. It also calculates and prints the final accuracy of the model on the validation data.\n"
   ]
  },
  {
   "cell_type": "code",
   "execution_count": null,
   "id": "848e0c2e",
   "metadata": {},
   "outputs": [],
   "source": [
    "import numpy as np\n",
    "import pandas as pd\n",
    "import os\n",
    "import matplotlib.pyplot as plt\n",
    "from tensorflow.keras.preprocessing.image import ImageDataGenerator\n",
    "from tensorflow.keras.applications import MobileNetV2\n",
    "from tensorflow.keras.layers import GlobalAveragePooling2D, Dense\n",
    "from tensorflow.keras.models import Model\n",
    "from sklearn.metrics import classification_report\n",
    "\n",
    "\n",
    "final_accuracy = history_df['accuracy'].iloc[-1]\n",
    "print(\"Final Accuracy:\", final_accuracy)\n",
    "\n",
    "\n",
    "print(classification_report(y_pred, y_test))\n"
   ]
  },
  {
   "cell_type": "markdown",
   "id": "cc21248f",
   "metadata": {},
   "source": [
    "# Saving the Trained Model\n",
    "\n",
    "Saving the trained deep learning model to a file with a filename that includes a timestamp and the final accuracy achieved by the model on the validation data."
   ]
  },
  {
   "cell_type": "code",
   "execution_count": null,
   "id": "0e878614",
   "metadata": {},
   "outputs": [],
   "source": [
    "import datetime as dt\n",
    "from tensorflow.keras.models import load_model\n",
    "\n",
    "\n",
    "date_time_format = '%Y_%m_%d__%H_%M_%S'\n",
    "\n",
    "\n",
    "current_date_time_dt = dt.datetime.now()\n",
    "\n",
    "current_date_time_string = dt.datetime.strftime(current_date_time_dt, date_time_format)\n",
    "\n",
    "model_filename = f'terrain__{current_date_time_string}___Accuracy_{final_accuracy:.4f}.h5'\n",
    "\n",
    "model.save(model_filename)\n"
   ]
  }
 ],
 "metadata": {
  "kernelspec": {
   "display_name": "Python 3 (ipykernel)",
   "language": "python",
   "name": "python3"
  },
  "language_info": {
   "codemirror_mode": {
    "name": "ipython",
    "version": 3
   },
   "file_extension": ".py",
   "mimetype": "text/x-python",
   "name": "python",
   "nbconvert_exporter": "python",
   "pygments_lexer": "ipython3",
   "version": "3.11.4"
  }
 },
 "nbformat": 4,
 "nbformat_minor": 5
}
